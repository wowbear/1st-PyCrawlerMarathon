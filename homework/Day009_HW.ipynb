{
 "cells": [
  {
   "cell_type": "markdown",
   "metadata": {},
   "source": [
    "# 作業\n",
    "\n",
    "以正確的副檔名下載網頁中的圖片\n",
    "範例網頁:https://www.ptt.cc/bbs/Beauty/M.1556291059.A.75A.html\n",
    "\n",
    "Note：因為 PTT 會詢問「是否滿 18 歲」，這邊可以用 cookies 繞過\n",
    "\n",
    "`requests.get(URL, cookies={'over18': '1'}`\n"
   ]
  },
  {
   "cell_type": "code",
   "execution_count": 14,
   "metadata": {},
   "outputs": [],
   "source": [
    "import requests\n",
    "import os\n",
    "\n",
    "from bs4 import BeautifulSoup\n",
    "from PIL import Image"
   ]
  },
  {
   "cell_type": "code",
   "execution_count": 15,
   "metadata": {},
   "outputs": [],
   "source": [
    "url = 'https://www.ptt.cc/bbs/Beauty/M.1556291059.A.75A.html'\n",
    "resp = requests.get(url, cookies={'over18': '1'})\n",
    "soup = BeautifulSoup(resp.text)"
   ]
  },
  {
   "cell_type": "code",
   "execution_count": 29,
   "metadata": {},
   "outputs": [
    {
     "name": "stdout",
     "output_type": "stream",
     "text": [
      "Cgb5oo1\n",
      "https://i.imgur.com/Cgb5oo1.gif\n",
      "<PIL.JpegImagePlugin.JpegImageFile image mode=RGB size=1920x1185 at 0x2C936D25D48>\n",
      "downloads/Cgb5oo1.jpeg\n",
      "Save image downloads/Cgb5oo1.jpeg\n",
      "MgjHY4f\n",
      "https://i.imgur.com/MgjHY4f.gif\n",
      "<PIL.JpegImagePlugin.JpegImageFile image mode=RGB size=454x640 at 0x2C936601408>\n",
      "downloads/MgjHY4f.jpeg\n",
      "Save image downloads/MgjHY4f.jpeg\n",
      "yeoRtAs\n",
      "https://i.imgur.com/yeoRtAs.gif\n",
      "<PIL.JpegImagePlugin.JpegImageFile image mode=RGB size=800x533 at 0x2C936BAD308>\n",
      "downloads/yeoRtAs.jpeg\n",
      "Save image downloads/yeoRtAs.jpeg\n",
      "wsauNEW\n",
      "https://i.imgur.com/wsauNEW.gif\n",
      "<PIL.JpegImagePlugin.JpegImageFile image mode=RGB size=1440x810 at 0x2C936D2C7C8>\n",
      "downloads/wsauNEW.jpeg\n",
      "Save image downloads/wsauNEW.jpeg\n",
      "IjiETcs\n",
      "https://i.imgur.com/IjiETcs.gif\n",
      "<PIL.JpegImagePlugin.JpegImageFile image mode=RGB size=1470x1102 at 0x2C936D45F88>\n",
      "downloads/IjiETcs.jpeg\n",
      "Save image downloads/IjiETcs.jpeg\n"
     ]
    }
   ],
   "source": [
    "# 決定要儲存的資料夾\n",
    "output_dir = 'downloads'\n",
    "\n",
    "# 假如資料夾不存在就新增一個資料夾\n",
    "if not os.path.exists(output_dir):\n",
    "    os.makedirs(output_dir)\n",
    "\n",
    "# 定位所有圖片的 tag\n",
    "image_tags = soup.find(id='main-content').findChildren('a', recursive=False)\n",
    "for img_tag in image_tags:\n",
    "    # 取得所有圖片在第三方服務的 id\n",
    "    if 'imgur' not in img_tag['href']:\n",
    "        continue\n",
    "    img_id = img_tag['href'].split('/')[-1]\n",
    "    print( img_id)\n",
    "    # 組合圖片而非網站的網址\n",
    "    img_url = 'https://i.imgur.com/{}.gif'.format(img_id)\n",
    "    print( img_url)\n",
    "    # 對圖片送出請求\n",
    "    with requests.get(img_url, stream=True) as r:\n",
    "        r.raise_for_status()\n",
    "        # 檢查圖片副檔名\n",
    "        img = Image.open(r.raw)\n",
    "        print(img)\n",
    "        img_savename = '{outdir}/{img_id}.{img_ext}'.format(outdir=output_dir, img_id=img_id, img_ext=img.format.lower())\n",
    "        print(img_savename)\n",
    "        img.save(img_savename)\n",
    "        print('Save image {}'.format(img_savename))"
   ]
  },
  {
   "cell_type": "code",
   "execution_count": null,
   "metadata": {},
   "outputs": [],
   "source": []
  }
 ],
 "metadata": {
  "kernelspec": {
   "display_name": "Python 3",
   "language": "python",
   "name": "python3"
  },
  "language_info": {
   "codemirror_mode": {
    "name": "ipython",
    "version": 3
   },
   "file_extension": ".py",
   "mimetype": "text/x-python",
   "name": "python",
   "nbconvert_exporter": "python",
   "pygments_lexer": "ipython3",
   "version": "3.7.4"
  }
 },
 "nbformat": 4,
 "nbformat_minor": 2
}
