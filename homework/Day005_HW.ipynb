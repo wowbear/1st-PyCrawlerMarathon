{
 "cells": [
  {
   "cell_type": "markdown",
   "metadata": {},
   "source": [
    "# API 資料串接 - 以 Dcard API 實作範例\n",
    "\n",
    "* 利用 urllib 套件的 urlretrieve 方法下載檔案\n",
    "* 了解 Python File I/O 讀檔、寫檔的用法\n",
    "* 能用運用資源管理器 With Statement 優化寫法"
   ]
  },
  {
   "cell_type": "markdown",
   "metadata": {},
   "source": [
    "## 作業目標\n",
    "\n",
    "* 請利用 API: https://www.dcard.tw/_api/forums/pet/posts?popular=true 回答下列問題：\n",
    "\n",
    "1. 這個 API 一次會回傳幾筆資料？每一筆資料包含哪些欄位？\n",
    "2. 取出每一筆資料的「標題」、「貼文時間」、「留言人數」、「按讚人數」\n",
    "3. 計算熱門/非熱門文章的「平均留言人數」與「平均按讚人數」"
   ]
  },
  {
   "cell_type": "code",
   "execution_count": 1,
   "metadata": {},
   "outputs": [
    {
     "name": "stdout",
     "output_type": "stream",
     "text": [
      "30\n",
      "dict_keys(['id', 'title', 'excerpt', 'anonymousSchool', 'anonymousDepartment', 'pinned', 'forumId', 'replyId', 'createdAt', 'updatedAt', 'commentCount', 'likeCount', 'withNickname', 'tags', 'topics', 'meta', 'forumName', 'forumAlias', 'gender', 'school', 'replyTitle', 'mediaMeta', 'reactions', 'hidden', 'customStyle', 'isSuspiciousAccount', 'layout', 'withImages', 'withVideos', 'media', 'reportReasonText', 'postAvatar'])\n"
     ]
    }
   ],
   "source": [
    "# 1. 這個 API 一次會回傳幾筆資料？每一筆資料包含哪些欄位？\n",
    "\n",
    "import requests\n",
    "import json\n",
    "\n",
    "pop = requests.get('https://www.dcard.tw/_api/forums/pet/posts?popular=true')\n",
    "jlist = json.loads(pop.text)\n",
    "\n",
    "#資料筆數\n",
    "print(len(jlist))\n",
    "\n",
    "#欄位\n",
    "print(jlist[0].keys())"
   ]
  },
  {
   "cell_type": "code",
   "execution_count": 2,
   "metadata": {},
   "outputs": [
    {
     "name": "stdout",
     "output_type": "stream",
     "text": [
      "哪裡來的天使 , 2019-11-27T03:55:26.087Z , 22 , 989\n",
      "最近刺蝟有點苦惱…… , 2019-11-27T14:09:04.187Z , 18 , 808\n",
      "有沒有人想要認養貓😢 , 2019-11-27T04:05:54.907Z , 21 , 364\n",
      "貓咪送養 , 2019-11-27T15:53:37.579Z , 7 , 137\n",
      "跪求原圖 , 2019-11-27T09:03:30.781Z , 7 , 69\n",
      "這些狗你認識嗎😍 , 2019-11-28T04:08:18.539Z , 6 , 63\n",
      "教不到2天就會握手的貓？！ , 2019-11-27T19:05:47.181Z , 23 , 55\n",
      "小cookie 一歲生日嘍 , 2019-11-27T13:29:28.841Z , 5 , 53\n",
      "充滿柴柴的人生❤️ , 2019-11-28T07:19:45.391Z , 2 , 49\n",
      "兔子吃草a跩樣 , 2019-11-27T17:48:07.040Z , 4 , 37\n",
      "開箱ㄐㄅ貓貓 , 2019-11-27T16:20:13.198Z , 1 , 33\n",
      "送養貓咪 , 2019-11-27T14:33:01.950Z , 2 , 30\n",
      "耐ㄍ⋯ , 2019-11-27T16:36:38.742Z , 7 , 28\n",
      "請問這樣算不算虐貓 , 2019-11-28T09:04:40.825Z , 9 , 27\n",
      "紙袋破壞王🏆 , 2019-11-28T09:43:33.709Z , 2 , 25\n",
      "尋貓啟示 更新#高雄岡山岡燕路全聯附近 , 2019-11-27T11:11:21.836Z , 8 , 24\n",
      "妳的柯基犬很可愛 , 2019-11-27T12:15:40.192Z , 12 , 22\n",
      "高科大校板的遺失倉鼠 , 2019-11-28T05:23:12.530Z , 0 , 21\n",
      "#圖多 偷看🐹上廁所...... , 2019-11-28T13:44:17.224Z , 9 , 20\n",
      "幼貓送養文 , 2019-11-28T02:52:25.651Z , 4 , 20\n",
      "蛇蛇吃飯（不喜勿入喔 , 2019-11-27T07:36:04.550Z , 7 , 20\n",
      "沒有責任感根本沒資格養寵物 , 2019-11-28T11:47:21.176Z , 3 , 17\n",
      "#募款 #貓 愛在街角，守護浪貓 , 2019-11-28T07:11:04.741Z , 1 , 15\n",
      "貓咪要如何避免被自己的💩臭死？ , 2019-11-27T14:33:19.704Z , 2 , 15\n",
      "終於知道去哪裡學來的睡姿⋯⋯ , 2019-11-27T08:59:09.803Z , 8 , 15\n",
      "兄弟貓🧐 , 2019-11-28T12:25:11.285Z , 3 , 14\n",
      "請問有人的柴犬走失嗎？ , 2019-11-28T14:57:09.825Z , 1 , 13\n",
      "求吸鴨地點 , 2019-11-28T03:29:49.177Z , 4 , 11\n",
      "當我的貓和海豹都是一個囧臉 , 2019-11-28T05:35:09.787Z , 3 , 10\n",
      "幼貓送養🐱 , 2019-11-28T13:38:34.117Z , 4 , 9\n"
     ]
    }
   ],
   "source": [
    "# 2. 取出每一筆資料的「標題」、「貼文時間」、「留言人數」、「按讚人數」\n",
    "\n",
    "for d in jlist:\n",
    "    print(d[\"title\"] , \",\", d[\"createdAt\"] , \",\", d[\"commentCount\"] , \",\", d[\"likeCount\"])"
   ]
  },
  {
   "cell_type": "code",
   "execution_count": 3,
   "metadata": {},
   "outputs": [
    {
     "name": "stdout",
     "output_type": "stream",
     "text": [
      "熱門平均留言人數: 6.833333333333333\n",
      "熱門平均按讚人數: 100.43333333333334\n",
      "非熱門平均留言人數: 2.433333333333333\n",
      "非熱門平均按讚人數: 12.3\n"
     ]
    }
   ],
   "source": [
    "# 3. 計算熱門/非熱門文章的「平均留言人數」與「平均按讚人數」\n",
    "\n",
    "npop = requests.get('https://www.dcard.tw/_api/forums/pet/posts?popular=false')\n",
    "njlist = json.loads(npop.text)\n",
    "\n",
    "import statistics\n",
    "\n",
    "scomment = []\n",
    "slike= []\n",
    "\n",
    "for d in jlist:\n",
    "    scomment.append(d[\"commentCount\"])\n",
    "    slike.append(d[\"likeCount\"])\n",
    "    \n",
    "print(\"熱門平均留言人數:\", statistics.mean(scomment))\n",
    "print(\"熱門平均按讚人數:\", statistics.mean(slike))\n",
    "\n",
    "scomment.clear()\n",
    "slike.clear()\n",
    "\n",
    "for d in njlist:\n",
    "    scomment.append(d[\"commentCount\"])\n",
    "    slike.append(d[\"likeCount\"])\n",
    "    \n",
    "print(\"非熱門平均留言人數:\", statistics.mean(scomment))\n",
    "print(\"非熱門平均按讚人數:\", statistics.mean(slike))"
   ]
  },
  {
   "cell_type": "code",
   "execution_count": null,
   "metadata": {},
   "outputs": [],
   "source": []
  },
  {
   "cell_type": "code",
   "execution_count": null,
   "metadata": {},
   "outputs": [],
   "source": []
  }
 ],
 "metadata": {
  "kernelspec": {
   "display_name": "Python 3",
   "language": "python",
   "name": "python3"
  },
  "language_info": {
   "codemirror_mode": {
    "name": "ipython",
    "version": 3
   },
   "file_extension": ".py",
   "mimetype": "text/x-python",
   "name": "python",
   "nbconvert_exporter": "python",
   "pygments_lexer": "ipython3",
   "version": "3.7.4"
  }
 },
 "nbformat": 4,
 "nbformat_minor": 2
}
