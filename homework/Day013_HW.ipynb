{
 "cells": [
  {
   "cell_type": "markdown",
   "metadata": {},
   "source": [
    "# PTT 網路爬蟲實作練習\n",
    "\n",
    "\n",
    "* 能夠利用 Request + BeatifulSour 撰寫爬蟲，並存放到合適的資料結構\n"
   ]
  },
  {
   "cell_type": "markdown",
   "metadata": {},
   "source": [
    "## 作業目標\n",
    "\n",
    "根據範例 ，完成以下問題：\n",
    "\n",
    "* ① 印出最新文章的「作者」「標題」「時間」\n",
    "* ② 印出第一頁所有文章的「作者」「標題」「時間」\n"
   ]
  },
  {
   "cell_type": "markdown",
   "metadata": {},
   "source": [
    "### ① 印出最新文章的「作者」「標題」「時間」"
   ]
  },
  {
   "cell_type": "code",
   "execution_count": 28,
   "metadata": {},
   "outputs": [
    {
     "name": "stdout",
     "output_type": "stream",
     "text": [
      "作者: iam168888888 (射精)\n",
      "標題: [新聞] 關鍵時刻表現不佳 Embiid：必須做自己\n",
      "時間: Wed Dec 11 23:50:42 2019\n"
     ]
    }
   ],
   "source": [
    "import requests\n",
    "from bs4 import BeautifulSoup\n",
    "\n",
    "url = 'https://www.ptt.cc/bbs/NBA/index.html'\n",
    "r = requests.get(url)\n",
    "\n",
    "soup = BeautifulSoup(r.text, \"html5lib\")\n",
    "\n",
    "for d in soup.find_all(class_=\"title\"):\n",
    "    try:\n",
    "        r = BeautifulSoup(requests.get('https://www.ptt.cc'+d.find('a')['href']).text, \"html5lib\")\n",
    "        d = r.find_all(class_='article-meta-value')\n",
    "        print('作者: ' + d[0].text)\n",
    "        print('標題: ' + d[2].text)\n",
    "        print('時間: ' + d[-1].text)\n",
    "        break\n",
    "    except:\n",
    "        continue\n"
   ]
  },
  {
   "cell_type": "markdown",
   "metadata": {},
   "source": [
    "### ② 印出第一頁所有文章的「作者」「標題」「時間」"
   ]
  },
  {
   "cell_type": "code",
   "execution_count": 29,
   "metadata": {},
   "outputs": [
    {
     "name": "stdout",
     "output_type": "stream",
     "text": [
      "作者: iam168888888 (射精)\n",
      "標題: [新聞] 關鍵時刻表現不佳 Embiid：必須做自己\n",
      "時間: Wed Dec 11 23:50:42 2019\n",
      "作者: dahanjian (強煎飯)\n",
      "標題: [討論] 獨行俠變一人球隊\n",
      "時間: Wed Dec 11 23:56:31 2019\n",
      "作者: Vedan (味丹)\n",
      "標題: [公告] 樂透取消及未來不再開啟樂透\n",
      "時間: Mon Jun 24 15:08:02 2019\n",
      "作者: qazwsx879345 (Rajon Rondo)\n",
      "標題: [公告] 版主上任相關事項\n",
      "時間: Fri Oct 25 10:44:03 2019\n",
      "作者: JerroLi (銀色小刀)\n",
      "標題: [情報] SEASON Schedule 賽程 December 19–20\n",
      "時間: Fri Nov 29 00:46:01 2019\n",
      "作者: dragon803 (好想去露營啊~)\n",
      "標題: [公告]是否禁止basketball top 5文章投票開始\n",
      "時間: Sun Dec  8 23:55:00 2019\n"
     ]
    }
   ],
   "source": [
    "for d in soup.find_all(class_=\"title\"):\n",
    "    #print(d.text.replace('\\t', '').replace('\\n', ''))\n",
    "    try:\n",
    "        r = BeautifulSoup(requests.get('https://www.ptt.cc'+d.find('a')['href']).text, \"html5lib\")\n",
    "        d = r.find_all(class_='article-meta-value')\n",
    "        print('作者: ' + d[0].text)\n",
    "        print('標題: ' + d[2].text)\n",
    "        print('時間: ' + d[-1].text)\n",
    "    except:\n",
    "        continue"
   ]
  },
  {
   "cell_type": "markdown",
   "metadata": {},
   "source": [
    "### ③ 試著爬爬看其他版的文章"
   ]
  },
  {
   "cell_type": "code",
   "execution_count": 30,
   "metadata": {},
   "outputs": [
    {
     "name": "stdout",
     "output_type": "stream",
     "text": [
      "作者: linshar1111 (linshar)\n",
      "標題: [情報] 用12塊吃香酥奶油豬仔包\n",
      "時間: Wed Dec 11 18:20:25 2019\n",
      "作者: duocuo (打光)\n",
      "標題: [情報] 雙十二的淘寶\n",
      "時間: Wed Dec 11 19:08:12 2019\n",
      "作者: dir2007 (熊貓媽咪)\n",
      "標題: [情報] 康是美 蘇菲棉條買一送一\n",
      "時間: Wed Dec 11 19:35:57 2019\n",
      "作者: fzalcman (王子)\n",
      "標題: [情報] Airpods $3973\n",
      "時間: Wed Dec 11 19:45:32 2019\n",
      "作者: PweDiePot (pwe)\n",
      "標題: [情報] 龍泰 奧地利皇家起士條 253/盒免運\n",
      "時間: Wed Dec 11 19:57:44 2019\n",
      "作者: chen0625 (不知道要打什麼？)\n",
      "標題: [情報] iherb 雙12 滿50 88折\n",
      "時間: Wed Dec 11 20:23:48 2019\n",
      "作者: rossi1014 (kelvin)\n",
      "標題: [情報] 今治毛巾200元\n",
      "時間: Wed Dec 11 21:02:19 2019\n",
      "作者: chujan (冠軍)\n",
      "標題: Re: [情報] 雙十二的淘寶\n",
      "時間: Wed Dec 11 21:30:10 2019\n",
      "作者: satoyama (里山)\n",
      "標題: Re: [情報] 雙十二的淘寶\n",
      "時間: Wed Dec 11 21:55:57 2019\n",
      "作者: chh945 (C.H.)\n",
      "標題: [情報] Line導購 樂天市場12%\n",
      "時間: Wed Dec 11 22:15:17 2019\n",
      "作者: asadman1523 (聽見下雨的聲音)\n",
      "標題: Re: [情報] 3M NZ500 UDN $5335\n",
      "時間: Wed Dec 11 23:59:42 2019\n",
      "作者: kadasaki (Ｋ～)\n",
      "標題: [公告] 省錢板板規 2018.10.29\n",
      "時間: Mon Jun 11 18:15:16 2018\n",
      "作者: kadasaki (Ｋ～)\n",
      "標題: [公告] 違規檢舉區\n",
      "時間: Sat Mar 19 22:21:20 2016\n",
      "作者: medama ( )\n",
      "標題: [公告] 未滿1元之集點資訊 請集中在本篇推文\n",
      "時間: Sun Nov 24 20:12:17 2019\n"
     ]
    }
   ],
   "source": [
    "url = 'https://www.ptt.cc/bbs/Lifeismoney/index.html'\n",
    "r = requests.get(url)\n",
    "\n",
    "soup = BeautifulSoup(r.text, \"html5lib\")\n",
    "\n",
    "for d in soup.find_all(class_=\"title\"):\n",
    "    try:\n",
    "        r = BeautifulSoup(requests.get('https://www.ptt.cc'+d.find('a')['href']).text, \"html5lib\")\n",
    "        d = r.find_all(class_='article-meta-value')\n",
    "        print('作者: ' + d[0].text)\n",
    "        print('標題: ' + d[2].text)\n",
    "        print('時間: ' + d[-1].text)\n",
    "    except:\n",
    "        continue\n",
    "\n",
    "\n"
   ]
  },
  {
   "cell_type": "code",
   "execution_count": null,
   "metadata": {},
   "outputs": [],
   "source": []
  }
 ],
 "metadata": {
  "kernelspec": {
   "display_name": "Python 3",
   "language": "python",
   "name": "python3"
  },
  "language_info": {
   "codemirror_mode": {
    "name": "ipython",
    "version": 3
   },
   "file_extension": ".py",
   "mimetype": "text/x-python",
   "name": "python",
   "nbconvert_exporter": "python",
   "pygments_lexer": "ipython3",
   "version": "3.7.4"
  }
 },
 "nbformat": 4,
 "nbformat_minor": 2
}
